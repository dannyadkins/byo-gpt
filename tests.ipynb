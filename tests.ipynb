{
 "cells": [
  {
   "cell_type": "code",
   "execution_count": 2,
   "metadata": {},
   "outputs": [],
   "source": [
    "import torch \n",
    "import numpy as np \n",
    "import importlib \n",
    "import torch.nn as nn\n",
    "from torch.nn import functional as F\n"
   ]
  },
  {
   "cell_type": "code",
   "execution_count": 37,
   "metadata": {},
   "outputs": [
    {
     "name": "stdout",
     "output_type": "stream",
     "text": [
      "torch.Size([1, 10, 16])\n",
      "QKV shape:  torch.Size([1, 2, 10, 8])\n",
      "Mask shape:  torch.Size([1, 1, 10, 10])\n",
      "torch.Size([1, 2, 10, 8])\n"
     ]
    }
   ],
   "source": [
    "class ToyModel:\n",
    "    def __init__(self, d_model, num_heads=2):\n",
    "        self.wq = nn.Linear(d_model, d_model)\n",
    "        self.wk = nn.Linear(d_model, d_model)\n",
    "        self.wv = nn.Linear(d_model, d_model)\n",
    "\n",
    "        self.num_heads = num_heads \n",
    "\n",
    "        self.d_head = d_model // num_heads\n",
    "\n",
    "    def forward(self, x):\n",
    "        q = self.wq(x).view(x.size(0), -1, self.num_heads, self.d_head).transpose(1, 2)\n",
    "        k = self.wk(x).view(x.size(0), -1, self.num_heads, self.d_head).transpose(1, 2)\n",
    "        v = self.wv(x).view(x.size(0), -1, self.num_heads, self.d_head).transpose(1, 2)\n",
    "        print(\"QKV shape: \", q.shape)\n",
    "        \n",
    "        scores = (q @ k.transpose(-2, -1))/torch.sqrt(torch.tensor(self.d_head)) \n",
    "        # print(\"Scores shape: \", scores.shape)\n",
    "        # print(\"Scores: \", scores)\n",
    "\n",
    "        seq_len = x.size(1)\n",
    "        # masked fill for seq_len \n",
    "\n",
    "        mask = torch.tril(torch.ones((seq_len,seq_len)).view(1,1,seq_len,seq_len))\n",
    "        print(\"Mask shape: \", mask.shape)\n",
    "        \n",
    "        scores = scores.masked_fill(mask == 0, float('-inf'))\n",
    "\n",
    "        attention = F.softmax(scores, dim=-1)\n",
    "\n",
    "        attention = attention @ v\n",
    "\n",
    "        print(attention.shape)\n",
    "\n",
    "        attention = attention.transpose(1,2).contiguous().view(-1, seq_len, self.d_head * self.num_heads)\n",
    "        print(attention.shape)\n",
    "        \n",
    "\n",
    "seq_len=10\n",
    "d_model=16\n",
    "\n",
    "model = ToyModel(d_model=d_model)\n",
    "\n",
    "x = torch.ones((1, seq_len, d_model))\n",
    "print(x.shape)\n",
    "model.forward(x)"
   ]
  },
  {
   "cell_type": "code",
   "execution_count": 20,
   "metadata": {},
   "outputs": [
    {
     "name": "stdout",
     "output_type": "stream",
     "text": [
      "torch.Size([1, 1, 8, 8])\n",
      "torch.Size([3, 8, 8])\n"
     ]
    }
   ],
   "source": [
    "# random 1s and zeros\n",
    "x = torch.zeros((30,8))\n",
    "\n",
    "attn_mask = torch.tril(torch.ones((8,8))).view(1,1,8,8)\n",
    "print(attn_mask.shape)\n",
    "\n",
    "pad_mask = torch.stack([torch.tensor([\n",
    "    1, 1, 1, 1, 0, 0, 0, 0\n",
    "]) for _ in range(30)])\n",
    "pad_mask = pad_mask[:, :, None] * torch.ones(1,1,x.size(1))\n",
    "pad_mask = pad_mask.transpose(-2, -1)\n",
    "print(pad_mask.shape)"
   ]
  },
  {
   "cell_type": "code",
   "execution_count": null,
   "metadata": {},
   "outputs": [],
   "source": [
    "d_model = 128\n",
    "x = torch.zeros(32, 64, 128)\n",
    "n = 10000\n",
    "\n",
    "seq_len = x.shape[1]\n",
    "\n",
    "pe = torch.zeros(seq_len, d_model)\n",
    "\n",
    "for k in range(0, seq_len):\n",
    "    for i in range(0, d_model//2):\n",
    "        theta = k/(n**(2*i/d_model))\n",
    "        pe[k, 2*i] = np.sin(theta)\n",
    "        pe[k, 2*i + 1] = np.cos(theta)\n",
    "\n",
    "# saves to state_dict but doesn't do anything with optimizer \n",
    "\n",
    "print(\"PE shape: \", pe.shape)\n",
    "# TODO: actually start using the positional encodings"
   ]
  },
  {
   "cell_type": "code",
   "execution_count": null,
   "metadata": {},
   "outputs": [],
   "source": [
    "out = x + pe \n",
    "for i in range(0, out.shape[0]):\n",
    "    assert (torch.allclose(out[i], pe))"
   ]
  },
  {
   "cell_type": "code",
   "execution_count": 49,
   "metadata": {},
   "outputs": [
    {
     "name": "stdout",
     "output_type": "stream",
     "text": [
      "Initializing BYOGPT with vocab size: 50257\n",
      "Embed shape:  torch.Size([32, 64, 128])\n",
      "PE shape:  torch.Size([64, 128])\n",
      "After pos_embed shape:  torch.Size([32, 64, 128])\n",
      "Attention shape:  torch.Size([32, 64, 128])\n",
      "torch.Size([32, 64, 50257])\n"
     ]
    }
   ],
   "source": [
    "batch_size = 32\n",
    "d_model = 128 \n",
    "seq_len = 64\n",
    "device = torch.device('cuda' if torch.cuda.is_available() else 'cpu')\n",
    "batch = torch.zeros([batch_size, seq_len]).to(int).to(device)\n",
    "\n",
    "import models.byo_gpt as byogpt \n",
    "importlib.reload(byogpt )\n",
    "model = byogpt.BYOGPT(50257).to(device)\n",
    "out = model(batch)\n",
    "print(out.shape)\n"
   ]
  }
 ],
 "metadata": {
  "kernelspec": {
   "display_name": "base",
   "language": "python",
   "name": "python3"
  },
  "language_info": {
   "codemirror_mode": {
    "name": "ipython",
    "version": 3
   },
   "file_extension": ".py",
   "mimetype": "text/x-python",
   "name": "python",
   "nbconvert_exporter": "python",
   "pygments_lexer": "ipython3",
   "version": "3.10.10"
  },
  "orig_nbformat": 4
 },
 "nbformat": 4,
 "nbformat_minor": 2
}
