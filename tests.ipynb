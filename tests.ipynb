{
 "cells": [
  {
   "cell_type": "code",
   "execution_count": 21,
   "metadata": {},
   "outputs": [],
   "source": [
    "import torch \n",
    "import numpy as np \n",
    "import importlib "
   ]
  },
  {
   "cell_type": "code",
   "execution_count": null,
   "metadata": {},
   "outputs": [],
   "source": [
    "d_model = 128\n",
    "x = torch.zeros(32, 64, 128)\n",
    "n = 10000\n",
    "\n",
    "seq_len = x.shape[1]\n",
    "\n",
    "pe = torch.zeros(seq_len, d_model)\n",
    "\n",
    "for k in range(0, seq_len):\n",
    "    for i in range(0, d_model//2):\n",
    "        theta = k/(n**(2*i/d_model))\n",
    "        pe[k, 2*i] = np.sin(theta)\n",
    "        pe[k, 2*i + 1] = np.cos(theta)\n",
    "\n",
    "# saves to state_dict but doesn't do anything with optimizer \n",
    "\n",
    "print(\"PE shape: \", pe.shape)\n",
    "# TODO: actually start using the positional encodings"
   ]
  },
  {
   "cell_type": "code",
   "execution_count": null,
   "metadata": {},
   "outputs": [],
   "source": [
    "out = x + pe \n",
    "for i in range(0, out.shape[0]):\n",
    "    assert (torch.allclose(out[i], pe))"
   ]
  },
  {
   "cell_type": "code",
   "execution_count": 49,
   "metadata": {},
   "outputs": [
    {
     "name": "stdout",
     "output_type": "stream",
     "text": [
      "Initializing BYOGPT with vocab size: 50257\n",
      "Embed shape:  torch.Size([32, 64, 128])\n",
      "PE shape:  torch.Size([64, 128])\n",
      "After pos_embed shape:  torch.Size([32, 64, 128])\n",
      "Attention shape:  torch.Size([32, 64, 128])\n",
      "torch.Size([32, 64, 50257])\n"
     ]
    }
   ],
   "source": [
    "batch_size = 32\n",
    "d_model = 128 \n",
    "seq_len = 64\n",
    "device = torch.device('cuda' if torch.cuda.is_available() else 'cpu')\n",
    "batch = torch.zeros([batch_size, seq_len]).to(int).to(device)\n",
    "\n",
    "import models.byo_gpt as byogpt \n",
    "importlib.reload(byogpt )\n",
    "model = byogpt.BYOGPT(50257).to(device)\n",
    "out = model(batch)\n",
    "print(out.shape)\n"
   ]
  }
 ],
 "metadata": {
  "kernelspec": {
   "display_name": "base",
   "language": "python",
   "name": "python3"
  },
  "language_info": {
   "codemirror_mode": {
    "name": "ipython",
    "version": 3
   },
   "file_extension": ".py",
   "mimetype": "text/x-python",
   "name": "python",
   "nbconvert_exporter": "python",
   "pygments_lexer": "ipython3",
   "version": "3.10.10"
  },
  "orig_nbformat": 4
 },
 "nbformat": 4,
 "nbformat_minor": 2
}
